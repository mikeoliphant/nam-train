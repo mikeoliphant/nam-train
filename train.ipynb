{
  "cells": [
    {
      "cell_type": "markdown",
      "metadata": {
        "id": "2g_4GtFuGlO8"
      },
      "source": [
        "## SInstallation\n",
        "Install `nam` into this Colab instance by running the next cell (hover over and click the play button that appears in the upper-left corner):"
      ]
    },
    {
      "cell_type": "code",
      "execution_count": null,
      "metadata": {
        "id": "vYQIpWr5EYRb"
      },
      "outputs": [],
      "source": [
        "!pip install neural-amp-modeler\n",
        "# Hint: use the next line instead for the very latest!\n",
        "# !pip install git+https://github.com/sdatkinson/neural-amp-modeler.git@main\n",
        "\n",
        "from nam.train.colab import run as _run\n",
        "run = _run\n",
        "%load_ext tensorboard"
      ]
    },
    {
      "cell_type": "markdown",
      "metadata": {
        "id": "7tRCyI_YjZjj"
      },
      "source": [
        "## Step 3: Enter metadata\n",
        "Tell us about what you're modeling!"
      ]
    },
    {
      "cell_type": "markdown",
      "metadata": {
        "id": "WVkBZg3-jZjl"
      },
      "source": [
        "## Train!\n",
        "Here we go!\n"
      ]
    },
    {
      "cell_type": "code",
      "execution_count": null,
      "metadata": {
        "id": "xOzo3NxqjZjl"
      },
      "outputs": [],
      "source": [
        "%tensorboard --logdir /content/lightning_logs\n",
        "run(\n",
        "    epochs=100,\n",
        "    architecture=\"standard\"  # standard, lite, feather\n",
        ")"
      ]
    },
    {
      "cell_type": "markdown",
      "metadata": {
        "id": "823KJ_L0Rchp"
      },
      "source": [
        "## Step 5: Check the results and download your model\n",
        "We're done!\n",
        "\n",
        "Have a look at the plot above to see how your model compares to the real gear you're modeling.\n",
        "Hopefully it looks good!\n",
        "Go to the file browser on the left panel ⬅ and download `model.nam` from the `exported_model` directory (you may need to hit the refresh button).\n",
        "\n",
        "Additionally, if you want to continue to train this model later you can download the lightning model artifacts from `lightning_logs`. If not, that's fine too.\n",
        "\n",
        "# 🎸 **ENJOY!** 🎸"
      ]
    }
  ],
  "metadata": {
    "accelerator": "GPU",
    "colab": {
      "provenance": []
    },
    "gpuClass": "standard",
    "kernelspec": {
      "display_name": "nam",
      "language": "python",
      "name": "python3"
    },
    "language_info": {
      "codemirror_mode": {
        "name": "ipython",
        "version": 3
      },
      "file_extension": ".py",
      "mimetype": "text/x-python",
      "name": "python",
      "nbconvert_exporter": "python",
      "pygments_lexer": "ipython3",
      "version": "3.10.6"
    },
    "orig_nbformat": 4,
    "vscode": {
      "interpreter": {
        "hash": "920df60c69944ba95f8c12adb41fedfdc8090c370a20d39253c7705973dd37db"
      }
    }
  },
  "nbformat": 4,
  "nbformat_minor": 0
}
