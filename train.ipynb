{
  "cells": [
    {
      "cell_type": "code",
      "execution_count": null,
      "metadata": {
        "id": "vYQIpWr5EYRb"
      },
      "outputs": [],
      "source": [
        "!pip install git+https://github.com/mikeoliphant/neural-amp-modeler.git@devel --quiet\n",
        "\n",
        "from nam.train.colab import run as _run\n",
        "run = _run\n",
        "%load_ext tensorboard"
      ]
    },
    {
      "cell_type": "code",
      "execution_count": null,
      "metadata": {
        "id": "xOzo3NxqjZjl"
      },
      "outputs": [],
      "source": [
        "%tensorboard --logdir /content/lightning_logs\n",
        "run(\n",
        "    epochs=100,\n",
        "    model_type=\"LSTM\",\n",
        "    custom_model_config=\n",
        "      {\n",
        "        \"num_layers\": 1,\n",
        "        \"hidden_size\": 16,\n",
        "        \"train_burn_in\": 4096,\n",
        "        \"train_truncate\": 512,\n",
        "      }\n",
        ")"
      ]
    }
  ],
  "metadata": {
    "accelerator": "GPU",
    "colab": {
      "provenance": []
    },
    "gpuClass": "standard",
    "kernelspec": {
      "display_name": "nam",
      "language": "python",
      "name": "python3"
    },
    "language_info": {
      "codemirror_mode": {
        "name": "ipython",
        "version": 3
      },
      "file_extension": ".py",
      "mimetype": "text/x-python",
      "name": "python",
      "nbconvert_exporter": "python",
      "pygments_lexer": "ipython3",
      "version": "3.10.6"
    },
    "orig_nbformat": 4,
    "vscode": {
      "interpreter": {
        "hash": "920df60c69944ba95f8c12adb41fedfdc8090c370a20d39253c7705973dd37db"
      }
    }
  },
  "nbformat": 4,
  "nbformat_minor": 0
}
